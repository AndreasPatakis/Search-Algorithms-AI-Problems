{
 "cells": [
  {
   "cell_type": "code",
   "execution_count": 3,
   "id": "9f74803b",
   "metadata": {},
   "outputs": [
    {
     "data": {
      "text/plain": [
       "'2.5.0'"
      ]
     },
     "execution_count": 3,
     "metadata": {},
     "output_type": "execute_result"
    }
   ],
   "source": [
    "import tensorflow as tf\n",
    "import csv\n"
   ]
  },
  {
   "cell_type": "code",
   "execution_count": 3,
   "id": "5a02db24",
   "metadata": {},
   "outputs": [],
   "source": [
    "features = []\n",
    "match_results = []\n",
    "with open(\"./soccer_features_dataset.csv\",\"r\") as datacsv:\n",
    "    for line in datacsv:\n",
    "        features.append(line[:-1].split(\",\"))\n",
    "\n",
    "with open(\"./soccer_results_dataset.csv\",\"r\") as datacsv:\n",
    "    for line in datacsv:\n",
    "        match_results.append(line[:-1].split(\",\"))\n",
    "\n",
    "        \n",
    "        \n",
    "        \n",
    "features_f = []\n",
    "for list in features:\n",
    "    features_f.append([float(item) for item in list])\n",
    "\n",
    "match_results_f = []\n",
    "for list in match_results:\n",
    "    match_results_f.append([float(item) for item in list])"
   ]
  },
  {
   "cell_type": "code",
   "execution_count": null,
   "id": "c5fb6074",
   "metadata": {},
   "outputs": [],
   "source": []
  },
  {
   "cell_type": "code",
   "execution_count": 4,
   "id": "4c9fbd67",
   "metadata": {},
   "outputs": [],
   "source": [
    "import soccer_ml_package.functions as smp\n"
   ]
  },
  {
   "cell_type": "code",
   "execution_count": 5,
   "id": "e04c6ddf",
   "metadata": {},
   "outputs": [],
   "source": [
    "k = 10\n",
    "training_sets,testing_sets = smp.k_fold_cross_validation(features_f,k)\n",
    "training_outputs,testing_outputs = smp.k_fold_cross_validation(match_results_f,k)\n"
   ]
  },
  {
   "cell_type": "code",
   "execution_count": 6,
   "id": "f5dba676",
   "metadata": {},
   "outputs": [
    {
     "name": "stdout",
     "output_type": "stream",
     "text": [
      "Epoch 1/10\n",
      "436/436 [==============================] - 1s 783us/step - loss: 0.2750 - accuracy: 0.4492\n",
      "Epoch 2/10\n",
      "436/436 [==============================] - 0s 752us/step - loss: 0.2233 - accuracy: 0.4519\n",
      "Epoch 3/10\n",
      "436/436 [==============================] - 0s 753us/step - loss: 0.2160 - accuracy: 0.4524\n",
      "Epoch 4/10\n",
      "436/436 [==============================] - 0s 742us/step - loss: 0.2142 - accuracy: 0.4594\n",
      "Epoch 5/10\n",
      "436/436 [==============================] - 0s 739us/step - loss: 0.2151 - accuracy: 0.4520\n",
      "Epoch 6/10\n",
      "436/436 [==============================] - 0s 768us/step - loss: 0.2146 - accuracy: 0.4545\n",
      "Epoch 7/10\n",
      "436/436 [==============================] - 0s 759us/step - loss: 0.2153 - accuracy: 0.4480\n",
      "Epoch 8/10\n",
      "436/436 [==============================] - 0s 748us/step - loss: 0.2146 - accuracy: 0.4534\n",
      "Epoch 9/10\n",
      "436/436 [==============================] - 0s 737us/step - loss: 0.2141 - accuracy: 0.4580\n",
      "Epoch 10/10\n",
      "436/436 [==============================] - 0s 754us/step - loss: 0.2137 - accuracy: 0.4610\n"
     ]
    },
    {
     "data": {
      "text/plain": [
       "<tensorflow.python.keras.callbacks.History at 0x7fa5843435e0>"
      ]
     },
     "execution_count": 6,
     "metadata": {},
     "output_type": "execute_result"
    }
   ],
   "source": [
    "model = tf.keras.models.Sequential()\n",
    "model.add(tf.keras.layers.Dense(28,activation=tf.nn.sigmoid))\n",
    "model.add(tf.keras.layers.Dense(60,activation=tf.nn.sigmoid))\n",
    "model.add(tf.keras.layers.Dense(30,activation=tf.nn.sigmoid))\n",
    "model.add(tf.keras.layers.Dense(15,activation=tf.nn.sigmoid))\n",
    "model.add(tf.keras.layers.Dense(3,activation=tf.nn.sigmoid))\n",
    "\n",
    "model.compile(optimizer='SGD',\n",
    "             loss='mean_squared_error',\n",
    "             metrics =['accuracy'])\n",
    "\n",
    "\n",
    "\n",
    "\n",
    "model.fit(training_sets[8],training_outputs[8], epochs=10)"
   ]
  },
  {
   "cell_type": "code",
   "execution_count": null,
   "id": "2745b1b5",
   "metadata": {},
   "outputs": [],
   "source": []
  },
  {
   "cell_type": "code",
   "execution_count": null,
   "id": "d1faf2e4",
   "metadata": {},
   "outputs": [],
   "source": []
  },
  {
   "cell_type": "code",
   "execution_count": null,
   "id": "5dc9231a",
   "metadata": {},
   "outputs": [],
   "source": []
  }
 ],
 "metadata": {
  "kernelspec": {
   "display_name": "Python 3",
   "language": "python",
   "name": "python3"
  },
  "language_info": {
   "codemirror_mode": {
    "name": "ipython",
    "version": 3
   },
   "file_extension": ".py",
   "mimetype": "text/x-python",
   "name": "python",
   "nbconvert_exporter": "python",
   "pygments_lexer": "ipython3",
   "version": "3.9.0"
  }
 },
 "nbformat": 4,
 "nbformat_minor": 5
}
