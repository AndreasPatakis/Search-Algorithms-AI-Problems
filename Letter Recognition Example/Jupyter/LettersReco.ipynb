{
 "cells": [
  {
   "cell_type": "code",
   "execution_count": 1,
   "id": "1904d637",
   "metadata": {},
   "outputs": [],
   "source": [
    "import tensorflow as tf\n"
   ]
  },
  {
   "cell_type": "code",
   "execution_count": 38,
   "id": "0854b135",
   "metadata": {},
   "outputs": [],
   "source": [
    "data_x = []\n",
    "with open(\"./letters_x.csv\",\"r\") as datacsv:\n",
    "    for line in datacsv:\n",
    "        data_x.append(line[:-1].split(\",\"))\n"
   ]
  },
  {
   "cell_type": "code",
   "execution_count": 39,
   "id": "f8753cef",
   "metadata": {},
   "outputs": [],
   "source": [
    "data_y = []\n",
    "with open(\"./letters_y.csv\",\"r\") as datacsv:\n",
    "    for line in datacsv:\n",
    "        data_y.append(line[:-1].split(\",\"))\n",
    "\n",
    "data_x_float = []\n",
    "for list in data_x:\n",
    "    data_x_float.append([float(item) for item in list])\n",
    "\n",
    "data_y_float = []\n",
    "for list in data_y:\n",
    "    data_y_float.append([float(item) for item in list])\n",
    "    \n",
    "data_x_float = tf.keras.utils.normalize(data_x_float, axis=1)\n",
    "data_y_float = tf.keras.utils.normalize(data_y_float, axis=1)"
   ]
  },
  {
   "cell_type": "code",
   "execution_count": 40,
   "id": "d2c178d6",
   "metadata": {},
   "outputs": [],
   "source": [
    "import soccer_ml_package.functions as smp"
   ]
  },
  {
   "cell_type": "code",
   "execution_count": 41,
   "id": "1772278d",
   "metadata": {},
   "outputs": [],
   "source": [
    "k = 10\n",
    "training_sets,testing_sets = smp.k_fold_cross_validation(data_x_float,k)\n",
    "training_outputs,testing_outputs = smp.k_fold_cross_validation(data_y_float,k)"
   ]
  },
  {
   "cell_type": "code",
   "execution_count": 54,
   "id": "cf47aeab",
   "metadata": {
    "scrolled": true
   },
   "outputs": [
    {
     "name": "stdout",
     "output_type": "stream",
     "text": [
      "Epoch 1/3\n",
      "5/5 [==============================] - 1s 5ms/step - loss: 5058.7798 - accuracy: 0.5283\n",
      "Epoch 2/3\n",
      "5/5 [==============================] - 0s 9ms/step - loss: 5046.6870 - accuracy: 0.5409\n",
      "Epoch 3/3\n",
      "5/5 [==============================] - 0s 6ms/step - loss: 5044.9302 - accuracy: 0.5409\n",
      "5/5 [==============================] - 0s 3ms/step - loss: 0.4233 - accuracy: 0.4403\n",
      "0.42326968908309937 0.44025155901908875\n"
     ]
    }
   ],
   "source": [
    "model = tf.keras.models.Sequential()\n",
    "model.add(tf.keras.layers.Dense(16,activation=tf.nn.sigmoid))\n",
    "# model.add(tf.keras.layers.Dense(32,activation=tf.nn.sigmoid))\n",
    "# model.add(tf.keras.layers.Dense(16,activation=tf.nn.sigmoid))\n",
    "# model.add(tf.keras.layers.Dense(4,activation=tf.nn.sigmoid))\n",
    "model.add(tf.keras.layers.Dense(2,activation=tf.nn.sigmoid))\n",
    "\n",
    "model.compile(optimizer='SGD',\n",
    "             loss='mean_squared_error',\n",
    "             metrics =['accuracy'])\n",
    "\n",
    "fold = 5\n",
    "model.fit(training_sets[fold],training_outputs[fold], epochs=3)\n",
    "\n",
    "val_loss,val_acc = model.evaluate(testing_sets[fold],testing_outputs[fold])\n",
    "print(val_loss,val_acc)"
   ]
  },
  {
   "cell_type": "code",
   "execution_count": null,
   "id": "cfe084b1",
   "metadata": {},
   "outputs": [],
   "source": []
  },
  {
   "cell_type": "code",
   "execution_count": null,
   "id": "1829b347",
   "metadata": {},
   "outputs": [],
   "source": []
  },
  {
   "cell_type": "code",
   "execution_count": null,
   "id": "f2f98205",
   "metadata": {},
   "outputs": [],
   "source": []
  }
 ],
 "metadata": {
  "kernelspec": {
   "display_name": "Python 3",
   "language": "python",
   "name": "python3"
  },
  "language_info": {
   "codemirror_mode": {
    "name": "ipython",
    "version": 3
   },
   "file_extension": ".py",
   "mimetype": "text/x-python",
   "name": "python",
   "nbconvert_exporter": "python",
   "pygments_lexer": "ipython3",
   "version": "3.9.0"
  }
 },
 "nbformat": 4,
 "nbformat_minor": 5
}
