{
 "cells": [
  {
   "cell_type": "code",
   "execution_count": 8,
   "id": "6f85057b",
   "metadata": {},
   "outputs": [],
   "source": [
    "import random\n",
    "\n",
    "train = []\n",
    "with open(\"./3dPointsTrain.csv\",\"r\") as datacsv:\n",
    "    for line in datacsv:\n",
    "        train.append(line[:-1].split(\",\"))\n",
    "\n",
    "test = []\n",
    "with open(\"./3dPointsTest.csv\",\"r\") as datacsv:\n",
    "    for line in datacsv:\n",
    "        test.append(line[:-1].split(\",\"))\n",
    "\n",
    "#random.shuffle(train)\n",
    "#random.shuffle(test)\n",
    "\n",
    "test_int = []\n",
    "train_int = []\n",
    "for list in test:\n",
    "    test_int.append([float(item) for item in list])\n",
    "for list in train:\n",
    "    train_int.append([float(item) for item in list])\n",
    "\n",
    "y_test = []\n",
    "y_train = []\n",
    "for list in test_int:\n",
    "    if(list[-1] == 1):\n",
    "        y_test.append([1,0,0])\n",
    "    elif(list[-1] == 2):\n",
    "        y_test.append([0,1,0])\n",
    "    else:\n",
    "        y_test.append([0,0,1])\n",
    "\n",
    "for list in train_int:\n",
    "    if(list[-1] == 1):\n",
    "        y_train.append([1,0,0])\n",
    "    elif(list[-1] == 2):\n",
    "        y_train.append([0,1,0])\n",
    "    else:\n",
    "        y_train.append([0,0,1])\n",
    "\n",
    "\n",
    "train_int = [item[:-1] for item in train_int]\n",
    "test_int = [item[:-1] for item in test_int]\n",
    "\n",
    "\n"
   ]
  },
  {
   "cell_type": "code",
   "execution_count": 10,
   "id": "3fb445d2",
   "metadata": {},
   "outputs": [
    {
     "name": "stdout",
     "output_type": "stream",
     "text": [
      "Epoch 1/20\n",
      "38/38 [==============================] - 0s 627us/step - loss: 0.2776 - accuracy: 0.3135\n",
      "Epoch 2/20\n",
      "38/38 [==============================] - 0s 650us/step - loss: 0.2705 - accuracy: 0.3388\n",
      "Epoch 3/20\n",
      "38/38 [==============================] - 0s 629us/step - loss: 0.2723 - accuracy: 0.3199\n",
      "Epoch 4/20\n",
      "38/38 [==============================] - 0s 632us/step - loss: 0.2694 - accuracy: 0.3240\n",
      "Epoch 5/20\n",
      "38/38 [==============================] - 0s 595us/step - loss: 0.2666 - accuracy: 0.3299\n",
      "Epoch 6/20\n",
      "38/38 [==============================] - 0s 598us/step - loss: 0.2606 - accuracy: 0.3523\n",
      "Epoch 7/20\n",
      "38/38 [==============================] - 0s 558us/step - loss: 0.2607 - accuracy: 0.3432\n",
      "Epoch 8/20\n",
      "38/38 [==============================] - 0s 637us/step - loss: 0.2646 - accuracy: 0.3110\n",
      "Epoch 9/20\n",
      "38/38 [==============================] - 0s 546us/step - loss: 0.2582 - accuracy: 0.3382\n",
      "Epoch 10/20\n",
      "38/38 [==============================] - 0s 678us/step - loss: 0.2562 - accuracy: 0.3405\n",
      "Epoch 11/20\n",
      "38/38 [==============================] - 0s 667us/step - loss: 0.2525 - accuracy: 0.3538\n",
      "Epoch 12/20\n",
      "38/38 [==============================] - 0s 594us/step - loss: 0.2543 - accuracy: 0.3333\n",
      "Epoch 13/20\n",
      "38/38 [==============================] - 0s 642us/step - loss: 0.2526 - accuracy: 0.3342\n",
      "Epoch 14/20\n",
      "38/38 [==============================] - 0s 695us/step - loss: 0.2509 - accuracy: 0.3349\n",
      "Epoch 15/20\n",
      "38/38 [==============================] - 0s 586us/step - loss: 0.2503 - accuracy: 0.3327\n",
      "Epoch 16/20\n",
      "38/38 [==============================] - 0s 587us/step - loss: 0.2510 - accuracy: 0.3192\n",
      "Epoch 17/20\n",
      "38/38 [==============================] - 0s 716us/step - loss: 0.2469 - accuracy: 0.3370\n",
      "Epoch 18/20\n",
      "38/38 [==============================] - 0s 581us/step - loss: 0.2447 - accuracy: 0.3457\n",
      "Epoch 19/20\n",
      "38/38 [==============================] - 0s 620us/step - loss: 0.2483 - accuracy: 0.3109\n",
      "Epoch 20/20\n",
      "38/38 [==============================] - 0s 574us/step - loss: 0.2444 - accuracy: 0.3312\n"
     ]
    },
    {
     "data": {
      "text/plain": [
       "<tensorflow.python.keras.callbacks.History at 0x7fe1b4253d90>"
      ]
     },
     "execution_count": 10,
     "metadata": {},
     "output_type": "execute_result"
    }
   ],
   "source": [
    "import tensorflow as tf\n",
    "\n",
    "model = tf.keras.models.Sequential()\n",
    "model.add(tf.keras.layers.Dense(3,activation=tf.nn.sigmoid))\n",
    "model.add(tf.keras.layers.Dense(3,activation=tf.nn.sigmoid))\n",
    "#model.add(tf.keras.layers.Dense(5,activation=tf.nn.sigmoid))\n",
    "#model.add(tf.keras.layers.Dense(4,activation=tf.nn.sigmoid))\n",
    "model.add(tf.keras.layers.Dense(3,activation=tf.nn.sigmoid))\n",
    "\n",
    "model.compile(optimizer='SGD',\n",
    "             loss='mean_squared_error',\n",
    "             metrics =['accuracy'])\n",
    "\n",
    "\n",
    "\n",
    "\n",
    "model.fit(train_int,y_train, epochs=20)"
   ]
  },
  {
   "cell_type": "code",
   "execution_count": null,
   "id": "357e002c",
   "metadata": {},
   "outputs": [],
   "source": []
  }
 ],
 "metadata": {
  "kernelspec": {
   "display_name": "Python 3",
   "language": "python",
   "name": "python3"
  },
  "language_info": {
   "codemirror_mode": {
    "name": "ipython",
    "version": 3
   },
   "file_extension": ".py",
   "mimetype": "text/x-python",
   "name": "python",
   "nbconvert_exporter": "python",
   "pygments_lexer": "ipython3",
   "version": "3.8.5"
  }
 },
 "nbformat": 4,
 "nbformat_minor": 5
}
